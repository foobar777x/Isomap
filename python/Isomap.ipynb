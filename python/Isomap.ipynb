{
  "nbformat": 4,
  "nbformat_minor": 0,
  "metadata": {
    "colab": {
      "name": "Isomap.ipynb",
      "version": "0.3.2",
      "provenance": [],
      "collapsed_sections": [],
      "include_colab_link": true
    },
    "kernelspec": {
      "name": "python3",
      "display_name": "Python 3"
    }
  },
  "cells": [
    {
      "cell_type": "markdown",
      "metadata": {
        "id": "view-in-github",
        "colab_type": "text"
      },
      "source": [
        "<a href=\"https://colab.research.google.com/github/prashankkadam/Isomap/blob/master/python/Isomap.ipynb\" target=\"_parent\"><img src=\"https://colab.research.google.com/assets/colab-badge.svg\" alt=\"Open In Colab\"/></a>"
      ]
    },
    {
      "cell_type": "markdown",
      "metadata": {
        "id": "8aAPwNXFRLad",
        "colab_type": "text"
      },
      "source": [
        "## **Isomap implementation using python:**"
      ]
    },
    {
      "cell_type": "markdown",
      "metadata": {
        "id": "76yzJHdGRaQK",
        "colab_type": "text"
      },
      "source": [
        "### Importing dependent libraries: "
      ]
    },
    {
      "cell_type": "code",
      "metadata": {
        "id": "p-MVFzOiv-fC",
        "colab_type": "code",
        "colab": {}
      },
      "source": [
        "from numpy import *\n",
        "import numpy \n",
        "import os\n",
        "from mpl_toolkits.mplot3d import Axes3D\n",
        "import matplotlib.pyplot as plt\n",
        "import scipy.io as sio\n",
        "from queue import PriorityQueue as pq"
      ],
      "execution_count": 0,
      "outputs": []
    },
    {
      "cell_type": "markdown",
      "metadata": {
        "id": "F5Hor7LORX9R",
        "colab_type": "text"
      },
      "source": [
        "### **Fetching the Graph:**"
      ]
    },
    {
      "cell_type": "code",
      "metadata": {
        "id": "aOUalRToRFv4",
        "colab_type": "code",
        "colab": {}
      },
      "source": [
        "def get_Graph(data, k):\n",
        "  N = data.shape[0]\n",
        "  G = numpy.zeros((N, N))\n",
        "  BOOL = G == 0\n",
        "  G[BOOL] = inf\n",
        "  for i in range(N):\n",
        "    LEN =  data.shape[0]\n",
        "    dis = data - numpy.tile(data[i], (LEN,1))\n",
        "    dis = numpy.linalg.norm(dis, axis=1)\n",
        "    order = numpy.argsort(dis)\n",
        "    dis = numpy.sort(dis)\n",
        "    dist, order = dis[1:k + 1], order[1:k + 1]\n",
        "    G[i, order] = dist \n",
        "    G[order, i] = dist\n",
        "    G[i, i] = 0\n",
        "  return G   "
      ],
      "execution_count": 0,
      "outputs": []
    },
    {
      "cell_type": "markdown",
      "metadata": {
        "id": "uJyAVDinS9L5",
        "colab_type": "text"
      },
      "source": [
        "### **Assigning the C-path:**"
      ]
    },
    {
      "cell_type": "code",
      "metadata": {
        "id": "oz_u391BS73m",
        "colab_type": "code",
        "colab": {}
      },
      "source": [
        "def c_path(G, v):\n",
        "  D = numpy.copy(G[v])\n",
        "  P = [-1 for i in range(D.shape[0])]\n",
        "  final = [0 for i in range(D.shape[0])]\n",
        "  final[v] = 1\n",
        "  Qu = pq()\n",
        "  for i in range(D.shape[0]):\n",
        "    Qu.put((D[i], i))\n",
        "  D[v] = 0\n",
        "  for i in range(D.shape[0]):\n",
        "    if sum(final) == D.shape[0]:\n",
        "      break\n",
        "    if i != v:\n",
        "      ite = Qu.get()\n",
        "      key = ite[1]\n",
        "      while final[key] != 0:\n",
        "        ite = Qu.get()\n",
        "        key = ite[1]\n",
        "      k = key\n",
        "      mini = D[key]\n",
        "      final[k] = 1\n",
        "      for j in range(D.shape[0]):\n",
        "        if final[j] == 0  and (mini + G[k, j] < D[j]):\n",
        "          D[j] = mini + G[k, j]\n",
        "          Qu.put((D[j], j))\n",
        "          P[j] = k\n",
        "  pattern = {-1:v}\n",
        "  P = [x if x not in pattern else pattern[x] for x in P]\n",
        "  return D, P, final"
      ],
      "execution_count": 0,
      "outputs": []
    },
    {
      "cell_type": "markdown",
      "metadata": {
        "id": "ESNIeqOlVTPh",
        "colab_type": "text"
      },
      "source": [
        "### **Projection:**"
      ]
    },
    {
      "cell_type": "code",
      "metadata": {
        "id": "1fpJCJ8rVJ8N",
        "colab_type": "code",
        "colab": {}
      },
      "source": [
        "def Mds_projection(G, q):\n",
        "  G = asarray(G)\n",
        "  D = G.copy()\n",
        "  for i in range(G.shape[0]):\n",
        "    D_, P, final = c_path(G, i)\n",
        "    D[i, :] = D_\n",
        "  DSquare = D**2\n",
        "  totalMean =  mean(DSquare)\n",
        "  columnMean = mean(DSquare, axis=0)\n",
        "  rowMean = mean(DSquare, axis=1)\n",
        "  B = zeros(DSquare.shape)\n",
        "  for i in range(B.shape[0]):\n",
        "    for j in range(B.shape[1]):\n",
        "      B[i][j] = -0.5 * (DSquare[i][j] - rowMean[i] - columnMean[i] + totalMean)\n",
        "  eigVal, eigVec = linalg.eig(B)\n",
        "  X = dot(eigVec[:, :q], sqrt(diag(eigVal[:q])))\n",
        "  return X  "
      ],
      "execution_count": 0,
      "outputs": []
    },
    {
      "cell_type": "markdown",
      "metadata": {
        "id": "vVLm1t6CXAsI",
        "colab_type": "text"
      },
      "source": [
        "### **Isomap:**"
      ]
    },
    {
      "cell_type": "code",
      "metadata": {
        "id": "APtHrcMeW-g_",
        "colab_type": "code",
        "colab": {}
      },
      "source": [
        "def Isomap(data, K, d):\n",
        "  G = get_Graph(data, K)\n",
        "  N = data.shape[0]\n",
        "  G_ = G.copy()\n",
        "  for i in range(N):\n",
        "    D, P, final = c_path(G, i)\n",
        "    G_[i] = D\n",
        "  Y = Mds_projection(G_, d)\n",
        "  return Y"
      ],
      "execution_count": 0,
      "outputs": []
    },
    {
      "cell_type": "code",
      "metadata": {
        "id": "7Y1WLku1Xofs",
        "colab_type": "code",
        "colab": {}
      },
      "source": [
        "if __name__ == '__main__':\n",
        "  path = './mnist_data'\n",
        "  data_name = 'usps_4000.mat'\n",
        "  save_path = './mnist_result'\n",
        "  data_path = path + './' + data_name\n",
        "  MAT = sio.loadmat(data_path)\n",
        "  trset = MAT['trset'][:, 0:-1]\n",
        "  teset = MAT['teset'][:, 0:-1]\n",
        "  data = vstack((trset, teset))\n",
        "  ds = [20, 50, 80, 100]\n",
        "  K = 10\n",
        "  for d in ds:\n",
        "    Y = Isomap(data, K, d)\n",
        "    if not os.path.exists(save_path):\n",
        "      os.mkdir(save_path)\n",
        "    sio.savemat(save_path + r\"/\" + str(d) + 'D' + data_name, {'Y': Y})\n",
        "  print(\"complete\")"
      ],
      "execution_count": 0,
      "outputs": []
    }
  ]
}