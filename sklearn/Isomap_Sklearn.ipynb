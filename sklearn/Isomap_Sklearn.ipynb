{
  "nbformat": 4,
  "nbformat_minor": 0,
  "metadata": {
    "colab": {
      "name": "Isomap_Sklearn.ipynb",
      "version": "0.3.2",
      "provenance": [],
      "collapsed_sections": [],
      "include_colab_link": true
    },
    "kernelspec": {
      "name": "python3",
      "display_name": "Python 3"
    }
  },
  "cells": [
    {
      "cell_type": "markdown",
      "metadata": {
        "id": "view-in-github",
        "colab_type": "text"
      },
      "source": [
        "<a href=\"https://colab.research.google.com/github/prashankkadam/Isomap/blob/master/sklearn/Isomap_Sklearn.ipynb\" target=\"_parent\"><img src=\"https://colab.research.google.com/assets/colab-badge.svg\" alt=\"Open In Colab\"/></a>"
      ]
    },
    {
      "cell_type": "markdown",
      "metadata": {
        "id": "OzTGZL-ApY_o",
        "colab_type": "text"
      },
      "source": [
        "## **Isomap implementation in Python using Scikit Learn**"
      ]
    },
    {
      "cell_type": "markdown",
      "metadata": {
        "id": "fZcP3JdLp5xF",
        "colab_type": "text"
      },
      "source": [
        "### We are going to use the face data for the given example "
      ]
    },
    {
      "cell_type": "markdown",
      "metadata": {
        "id": "3fB0wFATqDQF",
        "colab_type": "text"
      },
      "source": [
        "Importing the dependent libraries:"
      ]
    },
    {
      "cell_type": "code",
      "metadata": {
        "id": "4a_1vwBupWkT",
        "colab_type": "code",
        "colab": {}
      },
      "source": [
        "import math\n",
        "import pandas as pd\n",
        "import scipy.io\n",
        "from sklearn import manifold"
      ],
      "execution_count": 0,
      "outputs": []
    },
    {
      "cell_type": "markdown",
      "metadata": {
        "id": "HrYoAkP-qnte",
        "colab_type": "text"
      },
      "source": [
        "Loading the dataset:"
      ]
    },
    {
      "cell_type": "code",
      "metadata": {
        "id": "Yj5BPpJSqSAJ",
        "colab_type": "code",
        "colab": {}
      },
      "source": [
        "pd.options.display.max_columns = 7\n",
        "\n",
        "mat = scipy.io.loadmat('data/face_data.mat')\n",
        "df = pd.DataFrame(mat['images']).T\n",
        "\n",
        "num_images, num_pixels = df.shape\n",
        "pixels_per_dimension = int(math.sqrt(num_pixels))"
      ],
      "execution_count": 0,
      "outputs": []
    },
    {
      "cell_type": "markdown",
      "metadata": {
        "id": "w88H6vN4rY67",
        "colab_type": "text"
      },
      "source": [
        "Rotate the images"
      ]
    },
    {
      "cell_type": "code",
      "metadata": {
        "id": "OjtTCnmIqzm3",
        "colab_type": "code",
        "colab": {}
      },
      "source": [
        "for idx in df.index:\n",
        "  df.loc[idx] = df.loc[idx].value.reshape(pixels_per_dimension, pixels_per_dimension).T.reshape(-1)"
      ],
      "execution_count": 0,
      "outputs": []
    },
    {
      "cell_type": "markdown",
      "metadata": {
        "id": "7tvCloxbr3Gr",
        "colab_type": "text"
      },
      "source": [
        "Show first 5 rows:"
      ]
    },
    {
      "cell_type": "code",
      "metadata": {
        "id": "RJxrHxGMrUEF",
        "colab_type": "code",
        "colab": {}
      },
      "source": [
        "print(df.head())"
      ],
      "execution_count": 0,
      "outputs": []
    },
    {
      "cell_type": "markdown",
      "metadata": {
        "id": "mRDgoelOr-9b",
        "colab_type": "text"
      },
      "source": [
        "Now we fit a manifold using 6 nearest neighbors and our aim to reduce down to 2 components:"
      ]
    },
    {
      "cell_type": "code",
      "metadata": {
        "id": "P8uUgbQ5sTr0",
        "colab_type": "code",
        "colab": {}
      },
      "source": [
        "iso = manifold.Isomap(n_neighbors=6, n_components=2)\n",
        "iso.fit(df)\n",
        "manifold_2Da = iso.transform(df)\n",
        "manifold_2D = pd.DataFrame(manifold_2Da, columns=['Component 1', 'Component 2'])"
      ],
      "execution_count": 0,
      "outputs": []
    },
    {
      "cell_type": "markdown",
      "metadata": {
        "id": "tMUFVxzMtCgT",
        "colab_type": "text"
      },
      "source": [
        "Now we check the first 5 entries of the reduced 2 dimensions:"
      ]
    },
    {
      "cell_type": "code",
      "metadata": {
        "id": "tF_l69d1tLgC",
        "colab_type": "code",
        "colab": {}
      },
      "source": [
        "manifold_2D.head()"
      ],
      "execution_count": 0,
      "outputs": []
    },
    {
      "cell_type": "markdown",
      "metadata": {
        "id": "zc8k8hAntaCC",
        "colab_type": "text"
      },
      "source": [
        "Now we want to plot the graph of the reduced dimensions:"
      ]
    },
    {
      "cell_type": "code",
      "metadata": {
        "id": "CINNrR1etqud",
        "colab_type": "code",
        "colab": {}
      },
      "source": [
        "fig = plt.figure()\n",
        "fig.set_size_inches(10,10)\n",
        "ax = fig.add_subplot(111)\n",
        "ax.set_title('2D Components from Isomap of Facial Images')\n",
        "ax.set_xlabel('Component: 1')\n",
        "ax.set_ylabel('Component: 2')\n",
        "\n",
        "# Show 40 images on the plot:\n",
        "x_size = (max(manifold_2D['Component 1']) - min(manifold_2D['Component 1'])) * 0.08\n",
        "y_size = (max(manifold_2D['Component 2']) - min(manifold_2D['Component 2'])) * 0.08\n",
        "\n",
        "for i in range(40):\n",
        "  img_num = np.random.randint(0,num_images)\n",
        "  x0 = manifold_2D.loc[img_num, 'Component 1'] - (x_size / 2.)\n",
        "  y0 = manifold_2D.loc[img_num, 'Component 2'] - (y_size / 2.)\n",
        "  x1 = manifold_2D.loc[img_num, 'Component 1'] + (x_size / 2.)\n",
        "  x2 = manifold_2D.loc[img_num, 'Component 2'] + (y_size / 2.)\n",
        "  \n",
        "  img = df.iloc[img_num,:].values.reshape(pixels_per_dimension, pixel_per_dimension)\n",
        "  ax.imshow(img, aspect='auto', cmap=plt.cm.gray,interpolation='nearest', zorder=100000, extent=(x0, x1, y0, y1))\n",
        "  \n",
        "# Show 2D components plot:\n",
        "ax.scatter(manifold_2D['Component 1'], manifold_2D['Component 2'], marker='.', alpha=0.7)\n",
        "\n",
        "ax.set_ylabel('Up-Down Pose')\n",
        "ax.set_xlabel('Right-Left Pose')\n",
        "\n",
        "plt.show()"
      ],
      "execution_count": 0,
      "outputs": []
    }
  ]
}